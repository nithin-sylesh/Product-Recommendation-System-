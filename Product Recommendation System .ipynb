{
 "cells": [
  {
   "cell_type": "markdown",
   "id": "13972a8c",
   "metadata": {},
   "source": [
    "#                                    Product Recommendation System "
   ]
  },
  {
   "cell_type": "markdown",
   "id": "de4b5779",
   "metadata": {},
   "source": [
    "#               \n",
    "                                Rating Based Product Recommendation system - I\n",
    "                "
   ]
  },
  {
   "cell_type": "markdown",
   "id": "51077013",
   "metadata": {},
   "source": [
    "# Dataset : Amazon product review dataset\n",
    "https://www.kaggle.com/skillsmuggler/amazon-ratings"
   ]
  },
  {
   "cell_type": "code",
   "execution_count": 2,
   "id": "aec0eeba",
   "metadata": {},
   "outputs": [],
   "source": [
    "import numpy as np\n",
    "import seaborn as sns\n",
    "import pandas as pd\n",
    "import matplotlib.pyplot as plt\n",
    "\n",
    "# %matplotlib inline\n",
    "plt.style.use(\"ggplot\")\n",
    "\n",
    "import sklearn\n",
    "from sklearn.decomposition import TruncatedSVD"
   ]
  },
  {
   "cell_type": "code",
   "execution_count": 3,
   "id": "5b6da60a",
   "metadata": {},
   "outputs": [
    {
     "data": {
      "text/html": [
       "<div>\n",
       "<style scoped>\n",
       "    .dataframe tbody tr th:only-of-type {\n",
       "        vertical-align: middle;\n",
       "    }\n",
       "\n",
       "    .dataframe tbody tr th {\n",
       "        vertical-align: top;\n",
       "    }\n",
       "\n",
       "    .dataframe thead th {\n",
       "        text-align: right;\n",
       "    }\n",
       "</style>\n",
       "<table border=\"1\" class=\"dataframe\">\n",
       "  <thead>\n",
       "    <tr style=\"text-align: right;\">\n",
       "      <th></th>\n",
       "      <th>UserId</th>\n",
       "      <th>ProductId</th>\n",
       "      <th>Rating</th>\n",
       "      <th>Timestamp</th>\n",
       "    </tr>\n",
       "  </thead>\n",
       "  <tbody>\n",
       "    <tr>\n",
       "      <th>0</th>\n",
       "      <td>A39HTATAQ9V7YF</td>\n",
       "      <td>0205616461</td>\n",
       "      <td>5.0</td>\n",
       "      <td>1369699200</td>\n",
       "    </tr>\n",
       "    <tr>\n",
       "      <th>1</th>\n",
       "      <td>A3JM6GV9MNOF9X</td>\n",
       "      <td>0558925278</td>\n",
       "      <td>3.0</td>\n",
       "      <td>1355443200</td>\n",
       "    </tr>\n",
       "    <tr>\n",
       "      <th>2</th>\n",
       "      <td>A1Z513UWSAAO0F</td>\n",
       "      <td>0558925278</td>\n",
       "      <td>5.0</td>\n",
       "      <td>1404691200</td>\n",
       "    </tr>\n",
       "    <tr>\n",
       "      <th>3</th>\n",
       "      <td>A1WMRR494NWEWV</td>\n",
       "      <td>0733001998</td>\n",
       "      <td>4.0</td>\n",
       "      <td>1382572800</td>\n",
       "    </tr>\n",
       "    <tr>\n",
       "      <th>4</th>\n",
       "      <td>A3IAAVS479H7M7</td>\n",
       "      <td>0737104473</td>\n",
       "      <td>1.0</td>\n",
       "      <td>1274227200</td>\n",
       "    </tr>\n",
       "  </tbody>\n",
       "</table>\n",
       "</div>"
      ],
      "text/plain": [
       "           UserId   ProductId  Rating   Timestamp\n",
       "0  A39HTATAQ9V7YF  0205616461     5.0  1369699200\n",
       "1  A3JM6GV9MNOF9X  0558925278     3.0  1355443200\n",
       "2  A1Z513UWSAAO0F  0558925278     5.0  1404691200\n",
       "3  A1WMRR494NWEWV  0733001998     4.0  1382572800\n",
       "4  A3IAAVS479H7M7  0737104473     1.0  1274227200"
      ]
     },
     "execution_count": 3,
     "metadata": {},
     "output_type": "execute_result"
    }
   ],
   "source": [
    "ratings = pd.read_csv(\"C://Users//NITHIN SYLESH//Documents//int//feynn//ratings_Beauty.csv\")\n",
    "ratings1 = ratings.dropna()\n",
    "ratings1.head()"
   ]
  },
  {
   "cell_type": "code",
   "execution_count": 4,
   "id": "447eb245",
   "metadata": {},
   "outputs": [
    {
     "data": {
      "text/plain": [
       "(2023070, 4)"
      ]
     },
     "execution_count": 4,
     "metadata": {},
     "output_type": "execute_result"
    }
   ],
   "source": [
    "ratings1.shape\n",
    "\n"
   ]
  },
  {
   "cell_type": "code",
   "execution_count": 4,
   "id": "0fd3a274",
   "metadata": {},
   "outputs": [
    {
     "name": "stdout",
     "output_type": "stream",
     "text": [
      "<class 'pandas.core.frame.DataFrame'>\n",
      "Int64Index: 2023070 entries, 0 to 2023069\n",
      "Data columns (total 4 columns):\n",
      " #   Column     Dtype  \n",
      "---  ------     -----  \n",
      " 0   UserId     object \n",
      " 1   ProductId  object \n",
      " 2   Rating     float64\n",
      " 3   Timestamp  int64  \n",
      "dtypes: float64(1), int64(1), object(2)\n",
      "memory usage: 77.2+ MB\n"
     ]
    }
   ],
   "source": [
    "ratings1.info()\n"
   ]
  },
  {
   "cell_type": "code",
   "execution_count": 5,
   "id": "c8abf5ec",
   "metadata": {},
   "outputs": [
    {
     "data": {
      "text/plain": [
       "count    2.023070e+06\n",
       "mean     4.149036e+00\n",
       "std      1.311505e+00\n",
       "min      1.000000e+00\n",
       "25%      4.000000e+00\n",
       "50%      5.000000e+00\n",
       "75%      5.000000e+00\n",
       "max      5.000000e+00\n",
       "Name: Rating, dtype: float64"
      ]
     },
     "execution_count": 5,
     "metadata": {},
     "output_type": "execute_result"
    }
   ],
   "source": [
    "ratings1['Rating'].describe().transpose()"
   ]
  },
  {
   "cell_type": "code",
   "execution_count": 7,
   "id": "1acfd701",
   "metadata": {},
   "outputs": [
    {
     "name": "stdout",
     "output_type": "stream",
     "text": [
      "Minimum rating is: 1\n",
      "Maximum rating is: 5\n"
     ]
    }
   ],
   "source": [
    "print('Minimum rating is: %d' %(ratings1.Rating.min()))\n",
    "print('Maximum rating is: %d' %(ratings1.Rating.max()))"
   ]
  },
  {
   "cell_type": "code",
   "execution_count": 8,
   "id": "fb4f33ba",
   "metadata": {},
   "outputs": [
    {
     "name": "stdout",
     "output_type": "stream",
     "text": [
      "Number of missing values across columns: \n",
      " UserId       0\n",
      "ProductId    0\n",
      "Rating       0\n",
      "Timestamp    0\n",
      "dtype: int64\n"
     ]
    }
   ],
   "source": [
    "#Check for missing values\n",
    "print('Number of missing values across columns: \\n',ratings1.isnull().sum())"
   ]
  },
  {
   "cell_type": "code",
   "execution_count": 6,
   "id": "a0a6ab01",
   "metadata": {},
   "outputs": [
    {
     "data": {
      "text/html": [
       "<div>\n",
       "<style scoped>\n",
       "    .dataframe tbody tr th:only-of-type {\n",
       "        vertical-align: middle;\n",
       "    }\n",
       "\n",
       "    .dataframe tbody tr th {\n",
       "        vertical-align: top;\n",
       "    }\n",
       "\n",
       "    .dataframe thead th {\n",
       "        text-align: right;\n",
       "    }\n",
       "</style>\n",
       "<table border=\"1\" class=\"dataframe\">\n",
       "  <thead>\n",
       "    <tr style=\"text-align: right;\">\n",
       "      <th></th>\n",
       "      <th>Rating</th>\n",
       "    </tr>\n",
       "    <tr>\n",
       "      <th>ProductId</th>\n",
       "      <th></th>\n",
       "    </tr>\n",
       "  </thead>\n",
       "  <tbody>\n",
       "    <tr>\n",
       "      <th>B001MA0QY2</th>\n",
       "      <td>7533</td>\n",
       "    </tr>\n",
       "    <tr>\n",
       "      <th>B0009V1YR8</th>\n",
       "      <td>2869</td>\n",
       "    </tr>\n",
       "    <tr>\n",
       "      <th>B0043OYFKU</th>\n",
       "      <td>2477</td>\n",
       "    </tr>\n",
       "    <tr>\n",
       "      <th>B0000YUXI0</th>\n",
       "      <td>2143</td>\n",
       "    </tr>\n",
       "    <tr>\n",
       "      <th>B003V265QW</th>\n",
       "      <td>2088</td>\n",
       "    </tr>\n",
       "    <tr>\n",
       "      <th>B000ZMBSPE</th>\n",
       "      <td>2041</td>\n",
       "    </tr>\n",
       "    <tr>\n",
       "      <th>B003BQ6QXK</th>\n",
       "      <td>1918</td>\n",
       "    </tr>\n",
       "    <tr>\n",
       "      <th>B004OHQR1Q</th>\n",
       "      <td>1885</td>\n",
       "    </tr>\n",
       "    <tr>\n",
       "      <th>B00121UVU0</th>\n",
       "      <td>1838</td>\n",
       "    </tr>\n",
       "    <tr>\n",
       "      <th>B000FS05VG</th>\n",
       "      <td>1589</td>\n",
       "    </tr>\n",
       "  </tbody>\n",
       "</table>\n",
       "</div>"
      ],
      "text/plain": [
       "            Rating\n",
       "ProductId         \n",
       "B001MA0QY2    7533\n",
       "B0009V1YR8    2869\n",
       "B0043OYFKU    2477\n",
       "B0000YUXI0    2143\n",
       "B003V265QW    2088\n",
       "B000ZMBSPE    2041\n",
       "B003BQ6QXK    1918\n",
       "B004OHQR1Q    1885\n",
       "B00121UVU0    1838\n",
       "B000FS05VG    1589"
      ]
     },
     "execution_count": 6,
     "metadata": {},
     "output_type": "execute_result"
    }
   ],
   "source": [
    "popular_products = pd.DataFrame(ratings.groupby('ProductId')['Rating'].count())\n",
    "most_popular = popular_products.sort_values('Rating', ascending=False)\n",
    "most_popular.head(10)"
   ]
  },
  {
   "cell_type": "code",
   "execution_count": 7,
   "id": "4988e01f",
   "metadata": {},
   "outputs": [
    {
     "data": {
      "text/html": [
       "<div>\n",
       "<style scoped>\n",
       "    .dataframe tbody tr th:only-of-type {\n",
       "        vertical-align: middle;\n",
       "    }\n",
       "\n",
       "    .dataframe tbody tr th {\n",
       "        vertical-align: top;\n",
       "    }\n",
       "\n",
       "    .dataframe thead th {\n",
       "        text-align: right;\n",
       "    }\n",
       "</style>\n",
       "<table border=\"1\" class=\"dataframe\">\n",
       "  <thead>\n",
       "    <tr style=\"text-align: right;\">\n",
       "      <th></th>\n",
       "      <th>Rating</th>\n",
       "    </tr>\n",
       "  </thead>\n",
       "  <tbody>\n",
       "    <tr>\n",
       "      <th>count</th>\n",
       "      <td>249274.000000</td>\n",
       "    </tr>\n",
       "    <tr>\n",
       "      <th>mean</th>\n",
       "      <td>8.115848</td>\n",
       "    </tr>\n",
       "    <tr>\n",
       "      <th>std</th>\n",
       "      <td>36.064113</td>\n",
       "    </tr>\n",
       "    <tr>\n",
       "      <th>min</th>\n",
       "      <td>1.000000</td>\n",
       "    </tr>\n",
       "    <tr>\n",
       "      <th>25%</th>\n",
       "      <td>1.000000</td>\n",
       "    </tr>\n",
       "    <tr>\n",
       "      <th>50%</th>\n",
       "      <td>2.000000</td>\n",
       "    </tr>\n",
       "    <tr>\n",
       "      <th>75%</th>\n",
       "      <td>5.000000</td>\n",
       "    </tr>\n",
       "    <tr>\n",
       "      <th>max</th>\n",
       "      <td>7533.000000</td>\n",
       "    </tr>\n",
       "  </tbody>\n",
       "</table>\n",
       "</div>"
      ],
      "text/plain": [
       "              Rating\n",
       "count  249274.000000\n",
       "mean        8.115848\n",
       "std        36.064113\n",
       "min         1.000000\n",
       "25%         1.000000\n",
       "50%         2.000000\n",
       "75%         5.000000\n",
       "max      7533.000000"
      ]
     },
     "execution_count": 7,
     "metadata": {},
     "output_type": "execute_result"
    }
   ],
   "source": [
    "most_popular.describe()"
   ]
  },
  {
   "cell_type": "code",
   "execution_count": 8,
   "id": "cc46fc85",
   "metadata": {},
   "outputs": [
    {
     "data": {
      "image/png": "[encoded data removed]",
      "text/plain": [
       "<Figure size 1440x1080 with 1 Axes>"
      ]
     },
     "metadata": {},
     "output_type": "display_data"
    }
   ],
   "source": [
    "most_popular.hist(figsize=(20, 15))\n",
    "plt.show()"
   ]
  },
  {
   "cell_type": "code",
   "execution_count": 22,
   "id": "2db712f1",
   "metadata": {},
   "outputs": [
    {
     "name": "stderr",
     "output_type": "stream",
     "text": [
      "D:\\anaconda3\\lib\\site-packages\\seaborn\\_decorators.py:36: FutureWarning: Pass the following variable as a keyword arg: x. From version 0.12, the only valid positional argument will be `data`, and passing other arguments without an explicit keyword will result in an error or misinterpretation.\n",
      "  warnings.warn(\n"
     ]
    },
    {
     "data": {
      "image/png": "[encoded data removed]",
      "text/plain": [
       "<Figure size 360x360 with 1 Axes>"
      ]
     },
     "metadata": {},
     "output_type": "display_data"
    }
   ],
   "source": [
    "with sns.axes_style('darkgrid'):\n",
    "    g = sns.catplot(\"Rating\", data=most_popular, aspect=1,kind='count')\n",
    "    g.set_ylabels(\"Total number of ratings\") "
   ]
  },
  {
   "cell_type": "code",
   "execution_count": 9,
   "id": "bb2c5c86",
   "metadata": {},
   "outputs": [
    {
     "data": {
      "text/plain": [
       "<AxesSubplot:ylabel='Rating'>"
      ]
     },
     "execution_count": 9,
     "metadata": {},
     "output_type": "execute_result"
    },
    {
     "data": {
      "image/png": "[encoded data removed]",
      "text/plain": [
       "<Figure size 432x288 with 1 Axes>"
      ]
     },
     "metadata": {},
     "output_type": "display_data"
    }
   ],
   "source": [
    "sns.boxplot(y='Rating',data=most_popular)"
   ]
  },
  {
   "cell_type": "code",
   "execution_count": 8,
   "id": "f4d4dd0c",
   "metadata": {},
   "outputs": [
    {
     "data": {
      "text/plain": [
       "<AxesSubplot:xlabel='ProductId'>"
      ]
     },
     "execution_count": 8,
     "metadata": {},
     "output_type": "execute_result"
    },
    {
     "data": {
      "image/png": "[encoded data removed]",
      "text/plain": [
       "<Figure size 432x288 with 1 Axes>"
      ]
     },
     "metadata": {},
     "output_type": "display_data"
    }
   ],
   "source": [
    "most_popular.head(30).plot(kind = \"bar\")"
   ]
  },
  {
   "cell_type": "markdown",
   "id": "651db1e0",
   "metadata": {},
   "source": [
    "Analysis:\n",
    "\n",
    "    The above graph gives us the most popular products (arranged in descending order) sold by the business.\n"
   ]
  },
  {
   "cell_type": "markdown",
   "id": "8d2437cd",
   "metadata": {},
   "source": [
    "#            \n",
    "                                     Model-based Product Recommendation - II\n",
    "            "
   ]
  },
  {
   "cell_type": "code",
   "execution_count": 9,
   "id": "3280e3be",
   "metadata": {},
   "outputs": [],
   "source": [
    "ratings2 = amazon_ratings.head(1000)"
   ]
  },
  {
   "cell_type": "code",
   "execution_count": 10,
   "id": "5dbf1ae1",
   "metadata": {},
   "outputs": [
    {
     "data": {
      "text/html": [
       "<div>\n",
       "<style scoped>\n",
       "    .dataframe tbody tr th:only-of-type {\n",
       "        vertical-align: middle;\n",
       "    }\n",
       "\n",
       "    .dataframe tbody tr th {\n",
       "        vertical-align: top;\n",
       "    }\n",
       "\n",
       "    .dataframe thead th {\n",
       "        text-align: right;\n",
       "    }\n",
       "</style>\n",
       "<table border=\"1\" class=\"dataframe\">\n",
       "  <thead>\n",
       "    <tr style=\"text-align: right;\">\n",
       "      <th>ProductId</th>\n",
       "      <th>0205616461</th>\n",
       "      <th>0558925278</th>\n",
       "      <th>0733001998</th>\n",
       "      <th>0737104473</th>\n",
       "      <th>0762451459</th>\n",
       "      <th>1304139212</th>\n",
       "      <th>1304139220</th>\n",
       "      <th>130414089X</th>\n",
       "      <th>130414643X</th>\n",
       "      <th>1304146537</th>\n",
       "      <th>...</th>\n",
       "      <th>9788077315</th>\n",
       "      <th>9788077382</th>\n",
       "      <th>9788077625</th>\n",
       "      <th>9788077927</th>\n",
       "      <th>978807801X</th>\n",
       "      <th>9788078389</th>\n",
       "      <th>9788078885</th>\n",
       "      <th>9788078893</th>\n",
       "      <th>9788078907</th>\n",
       "      <th>978807894X</th>\n",
       "    </tr>\n",
       "    <tr>\n",
       "      <th>UserId</th>\n",
       "      <th></th>\n",
       "      <th></th>\n",
       "      <th></th>\n",
       "      <th></th>\n",
       "      <th></th>\n",
       "      <th></th>\n",
       "      <th></th>\n",
       "      <th></th>\n",
       "      <th></th>\n",
       "      <th></th>\n",
       "      <th></th>\n",
       "      <th></th>\n",
       "      <th></th>\n",
       "      <th></th>\n",
       "      <th></th>\n",
       "      <th></th>\n",
       "      <th></th>\n",
       "      <th></th>\n",
       "      <th></th>\n",
       "      <th></th>\n",
       "      <th></th>\n",
       "    </tr>\n",
       "  </thead>\n",
       "  <tbody>\n",
       "    <tr>\n",
       "      <th>A00205921JHJK5X9LNP42</th>\n",
       "      <td>0</td>\n",
       "      <td>0</td>\n",
       "      <td>0</td>\n",
       "      <td>0</td>\n",
       "      <td>0</td>\n",
       "      <td>0</td>\n",
       "      <td>0</td>\n",
       "      <td>0</td>\n",
       "      <td>0</td>\n",
       "      <td>0</td>\n",
       "      <td>...</td>\n",
       "      <td>0</td>\n",
       "      <td>0</td>\n",
       "      <td>0</td>\n",
       "      <td>0</td>\n",
       "      <td>0</td>\n",
       "      <td>0</td>\n",
       "      <td>0</td>\n",
       "      <td>0</td>\n",
       "      <td>0</td>\n",
       "      <td>0</td>\n",
       "    </tr>\n",
       "    <tr>\n",
       "      <th>A024581134CV80ZBLIZTZ</th>\n",
       "      <td>0</td>\n",
       "      <td>0</td>\n",
       "      <td>0</td>\n",
       "      <td>0</td>\n",
       "      <td>0</td>\n",
       "      <td>0</td>\n",
       "      <td>0</td>\n",
       "      <td>0</td>\n",
       "      <td>0</td>\n",
       "      <td>0</td>\n",
       "      <td>...</td>\n",
       "      <td>0</td>\n",
       "      <td>0</td>\n",
       "      <td>0</td>\n",
       "      <td>0</td>\n",
       "      <td>0</td>\n",
       "      <td>0</td>\n",
       "      <td>0</td>\n",
       "      <td>0</td>\n",
       "      <td>0</td>\n",
       "      <td>0</td>\n",
       "    </tr>\n",
       "    <tr>\n",
       "      <th>A05492663T95KW63BR75K</th>\n",
       "      <td>0</td>\n",
       "      <td>0</td>\n",
       "      <td>0</td>\n",
       "      <td>0</td>\n",
       "      <td>0</td>\n",
       "      <td>0</td>\n",
       "      <td>0</td>\n",
       "      <td>0</td>\n",
       "      <td>0</td>\n",
       "      <td>0</td>\n",
       "      <td>...</td>\n",
       "      <td>0</td>\n",
       "      <td>0</td>\n",
       "      <td>0</td>\n",
       "      <td>0</td>\n",
       "      <td>0</td>\n",
       "      <td>0</td>\n",
       "      <td>0</td>\n",
       "      <td>0</td>\n",
       "      <td>0</td>\n",
       "      <td>0</td>\n",
       "    </tr>\n",
       "    <tr>\n",
       "      <th>A100GYE1W4OXZ8</th>\n",
       "      <td>0</td>\n",
       "      <td>0</td>\n",
       "      <td>0</td>\n",
       "      <td>0</td>\n",
       "      <td>0</td>\n",
       "      <td>0</td>\n",
       "      <td>0</td>\n",
       "      <td>0</td>\n",
       "      <td>0</td>\n",
       "      <td>0</td>\n",
       "      <td>...</td>\n",
       "      <td>0</td>\n",
       "      <td>0</td>\n",
       "      <td>0</td>\n",
       "      <td>0</td>\n",
       "      <td>0</td>\n",
       "      <td>0</td>\n",
       "      <td>0</td>\n",
       "      <td>0</td>\n",
       "      <td>0</td>\n",
       "      <td>0</td>\n",
       "    </tr>\n",
       "    <tr>\n",
       "      <th>A10205RFE66H1R</th>\n",
       "      <td>0</td>\n",
       "      <td>0</td>\n",
       "      <td>0</td>\n",
       "      <td>0</td>\n",
       "      <td>0</td>\n",
       "      <td>0</td>\n",
       "      <td>0</td>\n",
       "      <td>0</td>\n",
       "      <td>0</td>\n",
       "      <td>0</td>\n",
       "      <td>...</td>\n",
       "      <td>0</td>\n",
       "      <td>0</td>\n",
       "      <td>0</td>\n",
       "      <td>0</td>\n",
       "      <td>0</td>\n",
       "      <td>0</td>\n",
       "      <td>0</td>\n",
       "      <td>0</td>\n",
       "      <td>0</td>\n",
       "      <td>0</td>\n",
       "    </tr>\n",
       "  </tbody>\n",
       "</table>\n",
       "<p>5 rows × 261 columns</p>\n",
       "</div>"
      ],
      "text/plain": [
       "ProductId              0205616461  0558925278  0733001998  0737104473  \\\n",
       "UserId                                                                  \n",
       "A00205921JHJK5X9LNP42           0           0           0           0   \n",
       "A024581134CV80ZBLIZTZ           0           0           0           0   \n",
       "A05492663T95KW63BR75K           0           0           0           0   \n",
       "A100GYE1W4OXZ8                  0           0           0           0   \n",
       "A10205RFE66H1R                  0           0           0           0   \n",
       "\n",
       "ProductId              0762451459  1304139212  1304139220  130414089X  \\\n",
       "UserId                                                                  \n",
       "A00205921JHJK5X9LNP42           0           0           0           0   \n",
       "A024581134CV80ZBLIZTZ           0           0           0           0   \n",
       "A05492663T95KW63BR75K           0           0           0           0   \n",
       "A100GYE1W4OXZ8                  0           0           0           0   \n",
       "A10205RFE66H1R                  0           0           0           0   \n",
       "\n",
       "ProductId              130414643X  1304146537  ...  9788077315  9788077382  \\\n",
       "UserId                                         ...                           \n",
       "A00205921JHJK5X9LNP42           0           0  ...           0           0   \n",
       "A024581134CV80ZBLIZTZ           0           0  ...           0           0   \n",
       "A05492663T95KW63BR75K           0           0  ...           0           0   \n",
       "A100GYE1W4OXZ8                  0           0  ...           0           0   \n",
       "A10205RFE66H1R                  0           0  ...           0           0   \n",
       "\n",
       "ProductId              9788077625  9788077927  978807801X  9788078389  \\\n",
       "UserId                                                                  \n",
       "A00205921JHJK5X9LNP42           0           0           0           0   \n",
       "A024581134CV80ZBLIZTZ           0           0           0           0   \n",
       "A05492663T95KW63BR75K           0           0           0           0   \n",
       "A100GYE1W4OXZ8                  0           0           0           0   \n",
       "A10205RFE66H1R                  0           0           0           0   \n",
       "\n",
       "ProductId              9788078885  9788078893  9788078907  978807894X  \n",
       "UserId                                                                 \n",
       "A00205921JHJK5X9LNP42           0           0           0           0  \n",
       "A024581134CV80ZBLIZTZ           0           0           0           0  \n",
       "A05492663T95KW63BR75K           0           0           0           0  \n",
       "A100GYE1W4OXZ8                  0           0           0           0  \n",
       "A10205RFE66H1R                  0           0           0           0  \n",
       "\n",
       "[5 rows x 261 columns]"
      ]
     },
     "execution_count": 10,
     "metadata": {},
     "output_type": "execute_result"
    }
   ],
   "source": [
    "ratings_utility_matrix = ratings2.pivot_table(values='Rating', index='UserId', columns='ProductId', fill_value=0)\n",
    "ratings_utility_matrix.head()"
   ]
  },
  {
   "cell_type": "code",
   "execution_count": 11,
   "id": "32bf2855",
   "metadata": {},
   "outputs": [
    {
     "data": {
      "text/plain": [
       "(948, 261)"
      ]
     },
     "execution_count": 11,
     "metadata": {},
     "output_type": "execute_result"
    }
   ],
   "source": [
    "ratings_utility_matrix.shape"
   ]
  },
  {
   "cell_type": "code",
   "execution_count": 12,
   "id": "8b2af78d",
   "metadata": {},
   "outputs": [
    {
     "data": {
      "text/html": [
       "<div>\n",
       "<style scoped>\n",
       "    .dataframe tbody tr th:only-of-type {\n",
       "        vertical-align: middle;\n",
       "    }\n",
       "\n",
       "    .dataframe tbody tr th {\n",
       "        vertical-align: top;\n",
       "    }\n",
       "\n",
       "    .dataframe thead th {\n",
       "        text-align: right;\n",
       "    }\n",
       "</style>\n",
       "<table border=\"1\" class=\"dataframe\">\n",
       "  <thead>\n",
       "    <tr style=\"text-align: right;\">\n",
       "      <th>UserId</th>\n",
       "      <th>A00205921JHJK5X9LNP42</th>\n",
       "      <th>A024581134CV80ZBLIZTZ</th>\n",
       "      <th>A05492663T95KW63BR75K</th>\n",
       "      <th>A100GYE1W4OXZ8</th>\n",
       "      <th>A10205RFE66H1R</th>\n",
       "      <th>A104D62WJII6KP</th>\n",
       "      <th>A108HJD2ESJXUY</th>\n",
       "      <th>A10GKM76NOQLGE</th>\n",
       "      <th>A10R4813UIW6GH</th>\n",
       "      <th>A10REFE1TW3ZVT</th>\n",
       "      <th>...</th>\n",
       "      <th>AYI1LDJYGG0ZK</th>\n",
       "      <th>AYM7E80UCJX7I</th>\n",
       "      <th>AYTK85H56WQ5F</th>\n",
       "      <th>AYYB9EFFG2GVA</th>\n",
       "      <th>AZ4FR14IPKML7</th>\n",
       "      <th>AZGGH4GS18RUN</th>\n",
       "      <th>AZLE2XFH3JUNG</th>\n",
       "      <th>AZLYAJ8XE443K</th>\n",
       "      <th>AZWRTJPN7NXT</th>\n",
       "      <th>AZYQEFB9Y5N22</th>\n",
       "    </tr>\n",
       "    <tr>\n",
       "      <th>ProductId</th>\n",
       "      <th></th>\n",
       "      <th></th>\n",
       "      <th></th>\n",
       "      <th></th>\n",
       "      <th></th>\n",
       "      <th></th>\n",
       "      <th></th>\n",
       "      <th></th>\n",
       "      <th></th>\n",
       "      <th></th>\n",
       "      <th></th>\n",
       "      <th></th>\n",
       "      <th></th>\n",
       "      <th></th>\n",
       "      <th></th>\n",
       "      <th></th>\n",
       "      <th></th>\n",
       "      <th></th>\n",
       "      <th></th>\n",
       "      <th></th>\n",
       "      <th></th>\n",
       "    </tr>\n",
       "  </thead>\n",
       "  <tbody>\n",
       "    <tr>\n",
       "      <th>0205616461</th>\n",
       "      <td>0</td>\n",
       "      <td>0</td>\n",
       "      <td>0</td>\n",
       "      <td>0</td>\n",
       "      <td>0</td>\n",
       "      <td>0</td>\n",
       "      <td>0</td>\n",
       "      <td>0</td>\n",
       "      <td>0</td>\n",
       "      <td>0</td>\n",
       "      <td>...</td>\n",
       "      <td>0</td>\n",
       "      <td>0</td>\n",
       "      <td>0</td>\n",
       "      <td>0</td>\n",
       "      <td>0</td>\n",
       "      <td>0</td>\n",
       "      <td>0</td>\n",
       "      <td>0</td>\n",
       "      <td>0</td>\n",
       "      <td>0</td>\n",
       "    </tr>\n",
       "    <tr>\n",
       "      <th>0558925278</th>\n",
       "      <td>0</td>\n",
       "      <td>0</td>\n",
       "      <td>0</td>\n",
       "      <td>0</td>\n",
       "      <td>0</td>\n",
       "      <td>0</td>\n",
       "      <td>0</td>\n",
       "      <td>0</td>\n",
       "      <td>0</td>\n",
       "      <td>0</td>\n",
       "      <td>...</td>\n",
       "      <td>0</td>\n",
       "      <td>0</td>\n",
       "      <td>0</td>\n",
       "      <td>0</td>\n",
       "      <td>0</td>\n",
       "      <td>0</td>\n",
       "      <td>0</td>\n",
       "      <td>0</td>\n",
       "      <td>0</td>\n",
       "      <td>0</td>\n",
       "    </tr>\n",
       "    <tr>\n",
       "      <th>0733001998</th>\n",
       "      <td>0</td>\n",
       "      <td>0</td>\n",
       "      <td>0</td>\n",
       "      <td>0</td>\n",
       "      <td>0</td>\n",
       "      <td>0</td>\n",
       "      <td>0</td>\n",
       "      <td>0</td>\n",
       "      <td>0</td>\n",
       "      <td>0</td>\n",
       "      <td>...</td>\n",
       "      <td>0</td>\n",
       "      <td>0</td>\n",
       "      <td>0</td>\n",
       "      <td>0</td>\n",
       "      <td>0</td>\n",
       "      <td>0</td>\n",
       "      <td>0</td>\n",
       "      <td>0</td>\n",
       "      <td>0</td>\n",
       "      <td>0</td>\n",
       "    </tr>\n",
       "    <tr>\n",
       "      <th>0737104473</th>\n",
       "      <td>0</td>\n",
       "      <td>0</td>\n",
       "      <td>0</td>\n",
       "      <td>0</td>\n",
       "      <td>0</td>\n",
       "      <td>0</td>\n",
       "      <td>0</td>\n",
       "      <td>0</td>\n",
       "      <td>0</td>\n",
       "      <td>0</td>\n",
       "      <td>...</td>\n",
       "      <td>0</td>\n",
       "      <td>0</td>\n",
       "      <td>0</td>\n",
       "      <td>0</td>\n",
       "      <td>0</td>\n",
       "      <td>0</td>\n",
       "      <td>0</td>\n",
       "      <td>0</td>\n",
       "      <td>0</td>\n",
       "      <td>0</td>\n",
       "    </tr>\n",
       "    <tr>\n",
       "      <th>0762451459</th>\n",
       "      <td>0</td>\n",
       "      <td>0</td>\n",
       "      <td>0</td>\n",
       "      <td>0</td>\n",
       "      <td>0</td>\n",
       "      <td>0</td>\n",
       "      <td>0</td>\n",
       "      <td>0</td>\n",
       "      <td>0</td>\n",
       "      <td>0</td>\n",
       "      <td>...</td>\n",
       "      <td>0</td>\n",
       "      <td>0</td>\n",
       "      <td>0</td>\n",
       "      <td>0</td>\n",
       "      <td>0</td>\n",
       "      <td>0</td>\n",
       "      <td>0</td>\n",
       "      <td>0</td>\n",
       "      <td>0</td>\n",
       "      <td>0</td>\n",
       "    </tr>\n",
       "  </tbody>\n",
       "</table>\n",
       "<p>5 rows × 948 columns</p>\n",
       "</div>"
      ],
      "text/plain": [
       "UserId      A00205921JHJK5X9LNP42  A024581134CV80ZBLIZTZ  \\\n",
       "ProductId                                                  \n",
       "0205616461                      0                      0   \n",
       "0558925278                      0                      0   \n",
       "0733001998                      0                      0   \n",
       "0737104473                      0                      0   \n",
       "0762451459                      0                      0   \n",
       "\n",
       "UserId      A05492663T95KW63BR75K  A100GYE1W4OXZ8  A10205RFE66H1R  \\\n",
       "ProductId                                                           \n",
       "0205616461                      0               0               0   \n",
       "0558925278                      0               0               0   \n",
       "0733001998                      0               0               0   \n",
       "0737104473                      0               0               0   \n",
       "0762451459                      0               0               0   \n",
       "\n",
       "UserId      A104D62WJII6KP  A108HJD2ESJXUY  A10GKM76NOQLGE  A10R4813UIW6GH  \\\n",
       "ProductId                                                                    \n",
       "0205616461               0               0               0               0   \n",
       "0558925278               0               0               0               0   \n",
       "0733001998               0               0               0               0   \n",
       "0737104473               0               0               0               0   \n",
       "0762451459               0               0               0               0   \n",
       "\n",
       "UserId      A10REFE1TW3ZVT  ...  AYI1LDJYGG0ZK  AYM7E80UCJX7I  AYTK85H56WQ5F  \\\n",
       "ProductId                   ...                                                \n",
       "0205616461               0  ...              0              0              0   \n",
       "0558925278               0  ...              0              0              0   \n",
       "0733001998               0  ...              0              0              0   \n",
       "0737104473               0  ...              0              0              0   \n",
       "0762451459               0  ...              0              0              0   \n",
       "\n",
       "UserId      AYYB9EFFG2GVA  AZ4FR14IPKML7  AZGGH4GS18RUN  AZLE2XFH3JUNG  \\\n",
       "ProductId                                                                \n",
       "0205616461              0              0              0              0   \n",
       "0558925278              0              0              0              0   \n",
       "0733001998              0              0              0              0   \n",
       "0737104473              0              0              0              0   \n",
       "0762451459              0              0              0              0   \n",
       "\n",
       "UserId      AZLYAJ8XE443K  AZWRTJPN7NXT  AZYQEFB9Y5N22  \n",
       "ProductId                                               \n",
       "0205616461              0             0              0  \n",
       "0558925278              0             0              0  \n",
       "0733001998              0             0              0  \n",
       "0737104473              0             0              0  \n",
       "0762451459              0             0              0  \n",
       "\n",
       "[5 rows x 948 columns]"
      ]
     },
     "execution_count": 12,
     "metadata": {},
     "output_type": "execute_result"
    }
   ],
   "source": [
    "X = ratings_utility_matrix.T\n",
    "X.head()"
   ]
  },
  {
   "cell_type": "code",
   "execution_count": 13,
   "id": "da1b1db0",
   "metadata": {},
   "outputs": [
    {
     "data": {
      "text/plain": [
       "(261, 948)"
      ]
     },
     "execution_count": 13,
     "metadata": {},
     "output_type": "execute_result"
    }
   ],
   "source": [
    "X.shape"
   ]
  },
  {
   "cell_type": "code",
   "execution_count": 14,
   "id": "c701b532",
   "metadata": {},
   "outputs": [],
   "source": [
    "X1 = X"
   ]
  },
  {
   "cell_type": "code",
   "execution_count": 15,
   "id": "45566e60",
   "metadata": {},
   "outputs": [
    {
     "data": {
      "text/plain": [
       "(261, 10)"
      ]
     },
     "execution_count": 15,
     "metadata": {},
     "output_type": "execute_result"
    }
   ],
   "source": [
    "SVD = TruncatedSVD(n_components=10)\n",
    "decomposed_matrix = SVD.fit_transform(X)\n",
    "decomposed_matrix.shape"
   ]
  },
  {
   "cell_type": "code",
   "execution_count": 16,
   "id": "e92cf1b9",
   "metadata": {},
   "outputs": [
    {
     "data": {
      "text/plain": [
       "(261, 261)"
      ]
     },
     "execution_count": 16,
     "metadata": {},
     "output_type": "execute_result"
    }
   ],
   "source": [
    "correlation_matrix = np.corrcoef(decomposed_matrix)\n",
    "correlation_matrix.shape"
   ]
  },
  {
   "cell_type": "code",
   "execution_count": 17,
   "id": "a1d705ee",
   "metadata": {},
   "outputs": [
    {
     "data": {
      "text/plain": [
       "'6162071103'"
      ]
     },
     "execution_count": 17,
     "metadata": {},
     "output_type": "execute_result"
    }
   ],
   "source": [
    "X.index[102]"
   ]
  },
  {
   "cell_type": "code",
   "execution_count": 18,
   "id": "00ac377a",
   "metadata": {},
   "outputs": [
    {
     "data": {
      "text/plain": [
       "102"
      ]
     },
     "execution_count": 18,
     "metadata": {},
     "output_type": "execute_result"
    }
   ],
   "source": [
    "i = \"6162071103\"\n",
    "\n",
    "product_names = list(X.index)\n",
    "product_ID = product_names.index(i)\n",
    "product_ID"
   ]
  },
  {
   "cell_type": "code",
   "execution_count": 19,
   "id": "8985a4d2",
   "metadata": {},
   "outputs": [
    {
     "data": {
      "text/plain": [
       "(261,)"
      ]
     },
     "execution_count": 19,
     "metadata": {},
     "output_type": "execute_result"
    }
   ],
   "source": [
    "correlation_product_ID = correlation_matrix[product_ID]\n",
    "correlation_product_ID.shape"
   ]
  },
  {
   "cell_type": "code",
   "execution_count": 22,
   "id": "5cc2b78c",
   "metadata": {},
   "outputs": [
    {
     "data": {
      "text/plain": [
       "['7899120217', '8430539387', '9744287233']"
      ]
     },
     "execution_count": 22,
     "metadata": {},
     "output_type": "execute_result"
    }
   ],
   "source": [
    "Recommend = list(X.index[correlation_product_ID > 0.90])\n",
    "\n",
    "# Removes the item already bought by the customer\n",
    "Recommend.remove(i) \n",
    "\n",
    "Recommend[0:5]"
   ]
  },
  {
   "cell_type": "markdown",
   "id": "92d57f97",
   "metadata": {},
   "source": [
    "#       \n",
    "                               Search engine based product  recommendation system - III\n",
    "       "
   ]
  },
  {
   "cell_type": "markdown",
   "id": "2fbd3070",
   "metadata": {},
   "source": [
    "# Dataset : Home Depot's dataset with product dataset.\n",
    "https://www.kaggle.com/c/home-depot-product-search-relevance/data       "
   ]
  },
  {
   "cell_type": "code",
   "execution_count": 11,
   "id": "36225412",
   "metadata": {},
   "outputs": [],
   "source": [
    "from sklearn.feature_extraction.text import TfidfVectorizer, CountVectorizer\n",
    "from sklearn.neighbors import NearestNeighbors\n",
    "from sklearn.cluster import KMeans\n",
    "from sklearn.metrics import adjusted_rand_score"
   ]
  },
  {
   "cell_type": "code",
   "execution_count": 12,
   "id": "1e28093b",
   "metadata": {},
   "outputs": [
    {
     "data": {
      "text/plain": [
       "(124428, 2)"
      ]
     },
     "execution_count": 12,
     "metadata": {},
     "output_type": "execute_result"
    }
   ],
   "source": [
    "product_descriptions = pd.read_csv(\"C://Users//NITHIN SYLESH//Documents//int//feynn//product_descriptions.csv\")\n",
    "product_descriptions.shape"
   ]
  },
  {
   "cell_type": "code",
   "execution_count": 15,
   "id": "6e8930f6",
   "metadata": {},
   "outputs": [
    {
     "data": {
      "text/html": [
       "<div>\n",
       "<style scoped>\n",
       "    .dataframe tbody tr th:only-of-type {\n",
       "        vertical-align: middle;\n",
       "    }\n",
       "\n",
       "    .dataframe tbody tr th {\n",
       "        vertical-align: top;\n",
       "    }\n",
       "\n",
       "    .dataframe thead th {\n",
       "        text-align: right;\n",
       "    }\n",
       "</style>\n",
       "<table border=\"1\" class=\"dataframe\">\n",
       "  <thead>\n",
       "    <tr style=\"text-align: right;\">\n",
       "      <th></th>\n",
       "      <th>product_uid</th>\n",
       "      <th>product_description</th>\n",
       "    </tr>\n",
       "  </thead>\n",
       "  <tbody>\n",
       "    <tr>\n",
       "      <th>0</th>\n",
       "      <td>100001</td>\n",
       "      <td>Not only do angles make joints stronger, they ...</td>\n",
       "    </tr>\n",
       "    <tr>\n",
       "      <th>1</th>\n",
       "      <td>100002</td>\n",
       "      <td>BEHR Premium Textured DECKOVER is an innovativ...</td>\n",
       "    </tr>\n",
       "    <tr>\n",
       "      <th>2</th>\n",
       "      <td>100003</td>\n",
       "      <td>Classic architecture meets contemporary design...</td>\n",
       "    </tr>\n",
       "    <tr>\n",
       "      <th>3</th>\n",
       "      <td>100004</td>\n",
       "      <td>The Grape Solar 265-Watt Polycrystalline PV So...</td>\n",
       "    </tr>\n",
       "    <tr>\n",
       "      <th>4</th>\n",
       "      <td>100005</td>\n",
       "      <td>Update your bathroom with the Delta Vero Singl...</td>\n",
       "    </tr>\n",
       "  </tbody>\n",
       "</table>\n",
       "</div>"
      ],
      "text/plain": [
       "   product_uid                                product_description\n",
       "0       100001  Not only do angles make joints stronger, they ...\n",
       "1       100002  BEHR Premium Textured DECKOVER is an innovativ...\n",
       "2       100003  Classic architecture meets contemporary design...\n",
       "3       100004  The Grape Solar 265-Watt Polycrystalline PV So...\n",
       "4       100005  Update your bathroom with the Delta Vero Singl..."
      ]
     },
     "execution_count": 15,
     "metadata": {},
     "output_type": "execute_result"
    }
   ],
   "source": [
    "product_descriptions = product_descriptions.dropna()\n",
    "product_descriptions.shape\n",
    "product_descriptions.head()"
   ]
  },
  {
   "cell_type": "code",
   "execution_count": 16,
   "id": "a72dea39",
   "metadata": {},
   "outputs": [
    {
     "data": {
      "text/plain": [
       "0    Not only do angles make joints stronger, they ...\n",
       "1    BEHR Premium Textured DECKOVER is an innovativ...\n",
       "2    Classic architecture meets contemporary design...\n",
       "3    The Grape Solar 265-Watt Polycrystalline PV So...\n",
       "4    Update your bathroom with the Delta Vero Singl...\n",
       "5    Achieving delicious results is almost effortle...\n",
       "6    The Quantum Adjustable 2-Light LED Black Emerg...\n",
       "7    The Teks #10 x 1-1/2 in. Zinc-Plated Steel Was...\n",
       "8    Get the House of Fara 3/4 in. x 3 in. x 8 ft. ...\n",
       "9    Valley View Industries Metal Stakes (4-Pack) a...\n",
       "Name: product_description, dtype: object"
      ]
     },
     "execution_count": 16,
     "metadata": {},
     "output_type": "execute_result"
    }
   ],
   "source": [
    "product_descriptions1 = product_descriptions.head(500)\n",
    "# product_descriptions1.iloc[:,1]\n",
    "\n",
    "product_descriptions1[\"product_description\"].head(10)"
   ]
  },
  {
   "cell_type": "code",
   "execution_count": 17,
   "id": "aedcc5d1",
   "metadata": {},
   "outputs": [
    {
     "data": {
      "text/plain": [
       "<500x8932 sparse matrix of type '<class 'numpy.float64'>'\n",
       "\twith 34817 stored elements in Compressed Sparse Row format>"
      ]
     },
     "execution_count": 17,
     "metadata": {},
     "output_type": "execute_result"
    }
   ],
   "source": [
    "vectorizer = TfidfVectorizer(stop_words='english')\n",
    "X1 = vectorizer.fit_transform(product_descriptions1[\"product_description\"])\n",
    "X1"
   ]
  },
  {
   "cell_type": "code",
   "execution_count": 18,
   "id": "f865e9b4",
   "metadata": {},
   "outputs": [
    {
     "data": {
      "image/png": "[encoded data removed]",
      "text/plain": [
       "<Figure size 432x288 with 1 Axes>"
      ]
     },
     "metadata": {},
     "output_type": "display_data"
    }
   ],
   "source": [
    "# Fitting K-Means to the dataset\n",
    "\n",
    "X=X1\n",
    "\n",
    "kmeans = KMeans(n_clusters = 10, init = 'k-means++')\n",
    "y_kmeans = kmeans.fit_predict(X)\n",
    "plt.plot(y_kmeans, \".\")\n",
    "plt.show()"
   ]
  },
  {
   "cell_type": "code",
   "execution_count": 19,
   "id": "e580d90e",
   "metadata": {},
   "outputs": [],
   "source": [
    "def print_cluster(i):\n",
    "    print(\"Cluster %d:\" % i),\n",
    "    for ind in order_centroids[i, :10]:\n",
    "        print(' %s' % terms[ind]),\n",
    "    print"
   ]
  },
  {
   "cell_type": "markdown",
   "id": "2e03cb95",
   "metadata": {},
   "source": [
    "Output:\n",
    "\n",
    "    Recommendation of product based on the current product selected by         user.\n",
    "    \n",
    "    To recommend related product based on, Frequently bought together."
   ]
  },
  {
   "cell_type": "code",
   "execution_count": 20,
   "id": "a232ebb0",
   "metadata": {},
   "outputs": [
    {
     "name": "stdout",
     "output_type": "stream",
     "text": [
      "Top terms per cluster:\n",
      "Cluster 0:\n",
      " silicone\n",
      " flap\n",
      " 100\n",
      " face\n",
      " pets\n",
      " breathing\n",
      " pet\n",
      " seal\n",
      " door\n",
      " sensing\n",
      "Cluster 1:\n",
      " fan\n",
      " light\n",
      " speed\n",
      " ceiling\n",
      " nickel\n",
      " help\n",
      " blades\n",
      " brushed\n",
      " control\n",
      " hampton\n",
      "Cluster 2:\n",
      " sheet\n",
      " repair\n",
      " cut\n",
      " metal\n",
      " shower\n",
      " form\n",
      " patching\n",
      " piecesteel\n",
      " altered\n",
      " sizes\n",
      "Cluster 3:\n",
      " switch\n",
      " led\n",
      " light\n",
      " cabinet\n",
      " fixtures\n",
      " mounting\n",
      " sticks\n",
      " watt\n",
      " task\n",
      " wall\n",
      "Cluster 4:\n",
      " power\n",
      " volt\n",
      " watt\n",
      " amp\n",
      " engine\n",
      " inverter\n",
      " generator\n",
      " output\n",
      " solar\n",
      " fuses\n",
      "Cluster 5:\n",
      " landscape\n",
      " edging\n",
      " anchoring\n",
      " stakes\n",
      " ziplevel\n",
      " pavestone\n",
      " curved\n",
      " pallet\n",
      " paver\n",
      " proflex\n",
      "Cluster 6:\n",
      " bamboo\n",
      " fencing\n",
      " galvanized\n",
      " reed\n",
      " fence\n",
      " ft\n",
      " gates\n",
      " wire\n",
      " steel\n",
      " using\n",
      "Cluster 7:\n",
      " post\n",
      " bulb\n",
      " light\n",
      " watt\n",
      " cedar\n",
      " red\n",
      " incandescent\n",
      " use\n",
      " fence\n",
      " thdv36\n",
      "Cluster 8:\n",
      " tool\n",
      " depth\n",
      " flex\n",
      " csst\n",
      " holder\n",
      " stop\n",
      " exhaust\n",
      " drill\n",
      " brackets\n",
      " mounting\n",
      "Cluster 9:\n",
      " tape\n",
      " film\n",
      " painting\n",
      " shrink\n",
      " scotch\n",
      " masking\n",
      " loops\n",
      " surfaces\n",
      " window\n",
      " tuff\n",
      "Cluster 10:\n",
      " paint\n",
      " waxes\n",
      " wood\n",
      " finish\n",
      " following\n",
      " using\n",
      " americana\n",
      " chalky\n",
      " look\n",
      " ct\n",
      "Cluster 11:\n",
      " wash\n",
      " cycle\n",
      " dryer\n",
      " cu\n",
      " clothes\n",
      " dry\n",
      " washer\n",
      " drum\n",
      " steam\n",
      " cycles\n",
      "Cluster 12:\n",
      " water\n",
      " heater\n",
      " gas\n",
      " oven\n",
      " valve\n",
      " burner\n",
      " cooking\n",
      " nox\n",
      " low\n",
      " quality\n",
      "Cluster 13:\n",
      " piece\n",
      " screwdriver\n",
      " trees\n",
      " bits\n",
      " 39\n",
      " ratcheting\n",
      " welded\n",
      " eye\n",
      " caps\n",
      " bolts\n",
      "Cluster 14:\n",
      " storage\n",
      " wall\n",
      " shelves\n",
      " panels\n",
      " panel\n",
      " installation\n",
      " accessories\n",
      " easy\n",
      " slatwall\n",
      " slat\n",
      "Cluster 15:\n",
      " cutting\n",
      " pole\n",
      " pruner\n",
      " saw\n",
      " umbrella\n",
      " pruning\n",
      " branches\n",
      " canopy\n",
      " blade\n",
      " reach\n",
      "Cluster 16:\n",
      " garage\n",
      " epoxy\n",
      " brush\n",
      " gloss\n",
      " dust\n",
      " seal\n",
      " floor\n",
      " clear\n",
      " cleaning\n",
      " apply\n",
      "Cluster 17:\n",
      " air\n",
      " cooling\n",
      " power\n",
      " room\n",
      " cool\n",
      " unit\n",
      " control\n",
      " conditioner\n",
      " blower\n",
      " 000\n",
      "Cluster 18:\n",
      " ladder\n",
      " step\n",
      " werner\n",
      " grill\n",
      " standing\n",
      " steps\n",
      " folding\n",
      " great\n",
      " gazebo\n",
      " tooth\n",
      "Cluster 19:\n",
      " ft\n",
      " steam\n",
      " order\n",
      " stone\n",
      " protects\n",
      " 10\n",
      " wet\n",
      " stable\n",
      " runner\n",
      " conduit\n",
      "Cluster 20:\n",
      " painted\n",
      " moulding\n",
      " primed\n",
      " casing\n",
      " mdf\n",
      " ft\n",
      " proposition\n",
      " nbsp\n",
      " residents\n",
      " california\n",
      "Cluster 21:\n",
      " patio\n",
      " frame\n",
      " dining\n",
      " cushions\n",
      " wicker\n",
      " chairs\n",
      " collection\n",
      " fabric\n",
      " outdoor\n",
      " rust\n",
      "Cluster 22:\n",
      " toilet\n",
      " flush\n",
      " bowl\n",
      " seat\n",
      " water\n",
      " piece\n",
      " bathroom\n",
      " elongated\n",
      " ring\n",
      " flushing\n",
      "Cluster 23:\n",
      " tool\n",
      " free\n",
      " grip\n",
      " nailer\n",
      " ridgid\n",
      " hart\n",
      " impact\n",
      " service\n",
      " universal\n",
      " upholstery\n",
      "Cluster 24:\n",
      " concrete\n",
      " stake\n",
      " cement\n",
      " ants\n",
      " used\n",
      " rebar\n",
      " help\n",
      " product\n",
      " pavers\n",
      " vary\n",
      "Cluster 25:\n",
      " joe\n",
      " leaves\n",
      " yard\n",
      " leaf\n",
      " roofer\n",
      " animals\n",
      " shredder\n",
      " grass\n",
      " easy\n",
      " mow\n",
      "Cluster 26:\n",
      " head\n",
      " watering\n",
      " spray\n",
      " sprinkler\n",
      " water\n",
      " lawn\n",
      " tractor\n",
      " coverage\n",
      " dependable\n",
      " sprinklers\n",
      "Cluster 27:\n",
      " watering\n",
      " gal\n",
      " plants\n",
      " tree\n",
      " polyethylene\n",
      " easy\n",
      " construction\n",
      " carrying\n",
      " nozzle\n",
      " homer\n",
      "Cluster 28:\n",
      " roller\n",
      " paint\n",
      " brush\n",
      " frame\n",
      " dog\n",
      " tray\n",
      " angled\n",
      " paints\n",
      " handle\n",
      " rollers\n",
      "Cluster 29:\n",
      " stainless\n",
      " nickel\n",
      " dispenser\n",
      " satin\n",
      " sink\n",
      " lotion\n",
      " kitchen\n",
      " steel\n",
      " water\n",
      " popcorn\n",
      "Cluster 30:\n",
      " snow\n",
      " blower\n",
      " start\n",
      " ariens\n",
      " chute\n",
      " cub\n",
      " cadet\n",
      " ltx\n",
      " sno\n",
      " year\n",
      "Cluster 31:\n",
      " rug\n",
      " shades\n",
      " window\n",
      " natural\n",
      " bamboo\n",
      " blind\n",
      " shade\n",
      " size\n",
      " slightly\n",
      " fabric\n",
      "Cluster 32:\n",
      " tile\n",
      " indoor\n",
      " ceramic\n",
      " commercial\n",
      " flooring\n",
      " piece\n",
      " orders\n",
      " arrive\n",
      " online\n",
      " ship\n",
      "Cluster 33:\n",
      " siding\n",
      " seal\n",
      " leaks\n",
      " leakseal\n",
      " moisture\n",
      " penetration\n",
      " rubberized\n",
      " utility\n",
      " use\n",
      " surface\n",
      "Cluster 34:\n",
      " lithium\n",
      " max\n",
      " ion\n",
      " volt\n",
      " 20\n",
      " tool\n",
      " m12\n",
      " battery\n",
      " batteries\n",
      " driver\n",
      "Cluster 35:\n",
      " lbs\n",
      " shelf\n",
      " unit\n",
      " shelves\n",
      " capacity\n",
      " adjustable\n",
      " chrome\n",
      " storage\n",
      " heavy\n",
      " weight\n",
      "Cluster 36:\n",
      " door\n",
      " screen\n",
      " window\n",
      " aluminum\n",
      " frame\n",
      " spline\n",
      " 84\n",
      " basement\n",
      " cut\n",
      " brick\n",
      "Cluster 37:\n",
      " devices\n",
      " leviton\n",
      " m12\n",
      " surge\n",
      " controls\n",
      " switches\n",
      " decora\n",
      " wiring\n",
      " protector\n",
      " workshop\n",
      "Cluster 38:\n",
      " insulation\n",
      " attic\n",
      " radiant\n",
      " ecotouch\n",
      " energy\n",
      " ladder\n",
      " cover\n",
      " stair\n",
      " opening\n",
      " corning\n",
      "Cluster 39:\n",
      " basin\n",
      " faucet\n",
      " vanity\n",
      " collection\n",
      " design\n",
      " geometric\n",
      " center\n",
      " detailing\n",
      " counter\n",
      " furniture\n",
      "Cluster 40:\n",
      " filter\n",
      " media\n",
      " water\n",
      " sediment\n",
      " helps\n",
      " dtv\n",
      " p100\n",
      " carbon\n",
      " ii\n",
      " drop\n",
      "Cluster 41:\n",
      " wall\n",
      " plate\n",
      " posts\n",
      " speaker\n",
      " center\n",
      " clock\n",
      " downspout\n",
      " pull\n",
      " sheet\n",
      " connect\n",
      "Cluster 42:\n",
      " light\n",
      " bulbs\n",
      " led\n",
      " leds\n",
      " lighting\n",
      " watt\n",
      " fixture\n",
      " 000\n",
      " fluorescent\n",
      " energy\n",
      "Cluster 43:\n",
      " watersense\n",
      " showerhead\n",
      " rain\n",
      " shower\n",
      " diameter\n",
      " american\n",
      " handshower\n",
      " passage\n",
      " spindle\n",
      " valve\n",
      "Cluster 44:\n",
      " pliers\n",
      " cutting\n",
      " grip\n",
      " handles\n",
      " wire\n",
      " joint\n",
      " design\n",
      " leverage\n",
      " soft\n",
      " slip\n",
      "Cluster 45:\n",
      " wood\n",
      " door\n",
      " post\n",
      " proposition\n",
      " nbsp\n",
      " residents\n",
      " california\n",
      " 65\n",
      " corner\n",
      " informationmade\n",
      "Cluster 46:\n",
      " metal\n",
      " screw\n",
      " drill\n",
      " screws\n",
      " azek\n",
      " hole\n",
      " gauge\n",
      " steel\n",
      " fastening\n",
      " pre\n",
      "Cluster 47:\n",
      " laminate\n",
      " consumer\n",
      " recycled\n",
      " wilsonart\n",
      " post\n",
      " kitchen\n",
      " countertop\n",
      " 100\n",
      " nouvelle\n",
      " pattern\n",
      "Cluster 48:\n",
      " roof\n",
      " roofing\n",
      " ice\n",
      " grace\n",
      " melt\n",
      " gel\n",
      " channel\n",
      " dog\n",
      " membrane\n",
      " shield\n",
      "Cluster 49:\n",
      " ramp\n",
      " non\n",
      " welded\n",
      " tread\n",
      " wheel\n",
      " dollies\n",
      " lb\n",
      " grouting\n",
      " strength\n",
      " extruded\n"
     ]
    }
   ],
   "source": [
    "# Optimal clusters is \n",
    "\n",
    "true_k = 50\n",
    "\n",
    "model = KMeans(n_clusters=true_k, init='k-means++', max_iter=100, n_init=1)\n",
    "model.fit(X1)\n",
    "\n",
    "print(\"Top terms per cluster:\")\n",
    "order_centroids = model.cluster_centers_.argsort()[:, ::-1]\n",
    "terms = vectorizer.get_feature_names()\n",
    "for i in range(true_k):\n",
    "    print_cluster(i)"
   ]
  },
  {
   "cell_type": "code",
   "execution_count": 21,
   "id": "5bb85c3a",
   "metadata": {},
   "outputs": [],
   "source": [
    "#Predicting clusters based on key search words\n",
    "def show_recommendations(product):\n",
    "    #print(\"Cluster ID:\")\n",
    "    Y = vectorizer.transform([product])\n",
    "    prediction = model.predict(Y)\n",
    "    #print(prediction)\n",
    "    print_cluster(prediction[0])"
   ]
  },
  {
   "cell_type": "code",
   "execution_count": 22,
   "id": "8e65c859",
   "metadata": {},
   "outputs": [
    {
     "name": "stdout",
     "output_type": "stream",
     "text": [
      "Cluster 28:\n",
      " roller\n",
      " paint\n",
      " brush\n",
      " frame\n",
      " dog\n",
      " tray\n",
      " angled\n",
      " paints\n",
      " handle\n",
      " rollers\n"
     ]
    }
   ],
   "source": [
    "show_recommendations(\"spray paint\")"
   ]
  },
  {
   "cell_type": "markdown",
   "id": "90b2f850",
   "metadata": {},
   "source": [
    "Keyword : spray paint\n",
    "\n",
    "In case a word appears in multiple clusters, the algorithm chooses the cluster with the highest frequency of occurance of the word.\n",
    "\n",
    "Once a cluster is identified based on the user's search words, the recommendation system can display items from the corresponding product clusters based on the product descriptions."
   ]
  },
  {
   "cell_type": "code",
   "execution_count": 23,
   "id": "94b78da8",
   "metadata": {},
   "outputs": [
    {
     "name": "stdout",
     "output_type": "stream",
     "text": [
      "Cluster 12:\n",
      " water\n",
      " heater\n",
      " gas\n",
      " oven\n",
      " valve\n",
      " burner\n",
      " cooking\n",
      " nox\n",
      " low\n",
      " quality\n"
     ]
    }
   ],
   "source": [
    "show_recommendations(\"water\")"
   ]
  },
  {
   "cell_type": "code",
   "execution_count": 24,
   "id": "519cc203",
   "metadata": {},
   "outputs": [
    {
     "name": "stdout",
     "output_type": "stream",
     "text": [
      "Cluster 46:\n",
      " metal\n",
      " screw\n",
      " drill\n",
      " screws\n",
      " azek\n",
      " hole\n",
      " gauge\n",
      " steel\n",
      " fastening\n",
      " pre\n"
     ]
    }
   ],
   "source": [
    "show_recommendations(\"steel drill\")"
   ]
  },
  {
   "cell_type": "code",
   "execution_count": 25,
   "id": "9b157404",
   "metadata": {},
   "outputs": [
    {
     "name": "stdout",
     "output_type": "stream",
     "text": [
      "Cluster 28:\n",
      " roller\n",
      " paint\n",
      " brush\n",
      " frame\n",
      " dog\n",
      " tray\n",
      " angled\n",
      " paints\n",
      " handle\n",
      " rollers\n"
     ]
    }
   ],
   "source": [
    "show_recommendations(\"spray paint\")"
   ]
  },
  {
   "cell_type": "code",
   "execution_count": 26,
   "id": "50b3cb8f",
   "metadata": {},
   "outputs": [
    {
     "name": "stdout",
     "output_type": "stream",
     "text": [
      "Cluster 15:\n",
      " cutting\n",
      " pole\n",
      " pruner\n",
      " saw\n",
      " umbrella\n",
      " pruning\n",
      " branches\n",
      " canopy\n",
      " blade\n",
      " reach\n"
     ]
    }
   ],
   "source": [
    "show_recommendations(\"cutting tool\")"
   ]
  },
  {
   "cell_type": "code",
   "execution_count": null,
   "id": "aa277048",
   "metadata": {},
   "outputs": [],
   "source": []
  }
 ],
 "metadata": {
  "kernelspec": {
   "display_name": "Python 3 (ipykernel)",
   "language": "python",
   "name": "python3"
  },
  "language_info": {
   "codemirror_mode": {
    "name": "ipython",
    "version": 3
   },
   "file_extension": ".py",
   "mimetype": "text/x-python",
   "name": "python",
   "nbconvert_exporter": "python",
   "pygments_lexer": "ipython3",
   "version": "3.9.7"
  }
 },
 "nbformat": 4,
 "nbformat_minor": 5
}
